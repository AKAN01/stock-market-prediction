{
  "nbformat": 4,
  "nbformat_minor": 0,
  "metadata": {
    "colab": {
      "name": "Stock Price.ipynb",
      "version": "0.3.2",
      "provenance": []
    },
    "kernelspec": {
      "name": "python3",
      "display_name": "Python 3"
    }
  },
  "cells": [
    {
      "metadata": {
        "id": "pRKCn6povqJ5",
        "colab_type": "text"
      },
      "cell_type": "markdown",
      "source": [
        "For Stock Market Price prediction, I am using nsepy python library for getting data of National Stock Exchange for HDFC.\n",
        "\n",
        "Any other keyword can be use at the place of 'HDFC' for different companies."
      ]
    },
    {
      "metadata": {
        "id": "sX9D7a4X9DfN",
        "colab_type": "code",
        "colab": {
          "base_uri": "https://localhost:8080/",
          "height": 456
        },
        "outputId": "b5bd3917-5100-44cb-eb15-33bd0d7c0c45"
      },
      "cell_type": "code",
      "source": [
        "import pandas as pd\n",
        "import numpy as np\n",
        "!pip install nsepy\n",
        "from nsepy import get_history\n",
        "import datetime as dt\n",
        "\n",
        "start = dt.datetime(2014, 1, 1)\n",
        "\n",
        "end = dt.datetime.today()\n",
        "\n",
        "hdfc = get_history(symbol='HDFC', start = start, end = end)\n",
        "#hdfc.index = pd.to_datetime(hdfc.index)\n",
        "hdfc.head()"
      ],
      "execution_count": 1,
      "outputs": [
        {
          "output_type": "stream",
          "text": [
            "Requirement already satisfied: nsepy in /usr/local/lib/python3.6/dist-packages (0.7)\n",
            "Requirement already satisfied: pandas in /usr/local/lib/python3.6/dist-packages (from nsepy) (0.22.0)\n",
            "Requirement already satisfied: click in /usr/local/lib/python3.6/dist-packages (from nsepy) (7.0)\n",
            "Requirement already satisfied: beautifulsoup4 in /usr/local/lib/python3.6/dist-packages (from nsepy) (4.6.3)\n",
            "Requirement already satisfied: requests in /usr/local/lib/python3.6/dist-packages (from nsepy) (2.18.4)\n",
            "Requirement already satisfied: six in /usr/local/lib/python3.6/dist-packages (from nsepy) (1.11.0)\n",
            "Requirement already satisfied: numpy in /usr/local/lib/python3.6/dist-packages (from nsepy) (1.14.6)\n",
            "Requirement already satisfied: pytz>=2011k in /usr/local/lib/python3.6/dist-packages (from pandas->nsepy) (2018.9)\n",
            "Requirement already satisfied: python-dateutil>=2 in /usr/local/lib/python3.6/dist-packages (from pandas->nsepy) (2.5.3)\n",
            "Requirement already satisfied: idna<2.7,>=2.5 in /usr/local/lib/python3.6/dist-packages (from requests->nsepy) (2.6)\n",
            "Requirement already satisfied: certifi>=2017.4.17 in /usr/local/lib/python3.6/dist-packages (from requests->nsepy) (2018.11.29)\n",
            "Requirement already satisfied: urllib3<1.23,>=1.21.1 in /usr/local/lib/python3.6/dist-packages (from requests->nsepy) (1.22)\n",
            "Requirement already satisfied: chardet<3.1.0,>=3.0.2 in /usr/local/lib/python3.6/dist-packages (from requests->nsepy) (3.0.4)\n"
          ],
          "name": "stdout"
        },
        {
          "output_type": "execute_result",
          "data": {
            "text/html": [
              "<div>\n",
              "<style scoped>\n",
              "    .dataframe tbody tr th:only-of-type {\n",
              "        vertical-align: middle;\n",
              "    }\n",
              "\n",
              "    .dataframe tbody tr th {\n",
              "        vertical-align: top;\n",
              "    }\n",
              "\n",
              "    .dataframe thead th {\n",
              "        text-align: right;\n",
              "    }\n",
              "</style>\n",
              "<table border=\"1\" class=\"dataframe\">\n",
              "  <thead>\n",
              "    <tr style=\"text-align: right;\">\n",
              "      <th></th>\n",
              "      <th>Symbol</th>\n",
              "      <th>Series</th>\n",
              "      <th>Prev Close</th>\n",
              "      <th>Open</th>\n",
              "      <th>High</th>\n",
              "      <th>Low</th>\n",
              "      <th>Last</th>\n",
              "      <th>Close</th>\n",
              "      <th>VWAP</th>\n",
              "      <th>Volume</th>\n",
              "      <th>Turnover</th>\n",
              "      <th>Trades</th>\n",
              "      <th>Deliverable Volume</th>\n",
              "      <th>%Deliverble</th>\n",
              "    </tr>\n",
              "    <tr>\n",
              "      <th>Date</th>\n",
              "      <th></th>\n",
              "      <th></th>\n",
              "      <th></th>\n",
              "      <th></th>\n",
              "      <th></th>\n",
              "      <th></th>\n",
              "      <th></th>\n",
              "      <th></th>\n",
              "      <th></th>\n",
              "      <th></th>\n",
              "      <th></th>\n",
              "      <th></th>\n",
              "      <th></th>\n",
              "      <th></th>\n",
              "    </tr>\n",
              "  </thead>\n",
              "  <tbody>\n",
              "    <tr>\n",
              "      <th>2014-01-01</th>\n",
              "      <td>HDFC</td>\n",
              "      <td>EQ</td>\n",
              "      <td>794.65</td>\n",
              "      <td>798.25</td>\n",
              "      <td>800.1</td>\n",
              "      <td>790.60</td>\n",
              "      <td>794.80</td>\n",
              "      <td>793.50</td>\n",
              "      <td>794.33</td>\n",
              "      <td>587564</td>\n",
              "      <td>4.667199e+13</td>\n",
              "      <td>30949</td>\n",
              "      <td>308810</td>\n",
              "      <td>0.5256</td>\n",
              "    </tr>\n",
              "    <tr>\n",
              "      <th>2014-01-02</th>\n",
              "      <td>HDFC</td>\n",
              "      <td>EQ</td>\n",
              "      <td>793.50</td>\n",
              "      <td>791.60</td>\n",
              "      <td>809.5</td>\n",
              "      <td>784.00</td>\n",
              "      <td>786.50</td>\n",
              "      <td>791.10</td>\n",
              "      <td>801.14</td>\n",
              "      <td>2538179</td>\n",
              "      <td>2.033431e+14</td>\n",
              "      <td>84179</td>\n",
              "      <td>1769558</td>\n",
              "      <td>0.6972</td>\n",
              "    </tr>\n",
              "    <tr>\n",
              "      <th>2014-01-03</th>\n",
              "      <td>HDFC</td>\n",
              "      <td>EQ</td>\n",
              "      <td>791.10</td>\n",
              "      <td>791.00</td>\n",
              "      <td>794.9</td>\n",
              "      <td>780.00</td>\n",
              "      <td>793.15</td>\n",
              "      <td>791.00</td>\n",
              "      <td>790.21</td>\n",
              "      <td>1855802</td>\n",
              "      <td>1.466481e+14</td>\n",
              "      <td>54240</td>\n",
              "      <td>1448449</td>\n",
              "      <td>0.7805</td>\n",
              "    </tr>\n",
              "    <tr>\n",
              "      <th>2014-01-06</th>\n",
              "      <td>HDFC</td>\n",
              "      <td>EQ</td>\n",
              "      <td>791.00</td>\n",
              "      <td>790.00</td>\n",
              "      <td>798.4</td>\n",
              "      <td>784.35</td>\n",
              "      <td>795.00</td>\n",
              "      <td>795.85</td>\n",
              "      <td>791.03</td>\n",
              "      <td>1861785</td>\n",
              "      <td>1.472734e+14</td>\n",
              "      <td>24908</td>\n",
              "      <td>1529849</td>\n",
              "      <td>0.8217</td>\n",
              "    </tr>\n",
              "    <tr>\n",
              "      <th>2014-01-07</th>\n",
              "      <td>HDFC</td>\n",
              "      <td>EQ</td>\n",
              "      <td>795.85</td>\n",
              "      <td>794.00</td>\n",
              "      <td>800.6</td>\n",
              "      <td>788.40</td>\n",
              "      <td>798.00</td>\n",
              "      <td>797.90</td>\n",
              "      <td>794.87</td>\n",
              "      <td>2216143</td>\n",
              "      <td>1.761543e+14</td>\n",
              "      <td>56220</td>\n",
              "      <td>1738763</td>\n",
              "      <td>0.7846</td>\n",
              "    </tr>\n",
              "  </tbody>\n",
              "</table>\n",
              "</div>"
            ],
            "text/plain": [
              "           Symbol Series  Prev Close    Open   High     Low    Last   Close  \\\n",
              "Date                                                                          \n",
              "2014-01-01   HDFC     EQ      794.65  798.25  800.1  790.60  794.80  793.50   \n",
              "2014-01-02   HDFC     EQ      793.50  791.60  809.5  784.00  786.50  791.10   \n",
              "2014-01-03   HDFC     EQ      791.10  791.00  794.9  780.00  793.15  791.00   \n",
              "2014-01-06   HDFC     EQ      791.00  790.00  798.4  784.35  795.00  795.85   \n",
              "2014-01-07   HDFC     EQ      795.85  794.00  800.6  788.40  798.00  797.90   \n",
              "\n",
              "              VWAP   Volume      Turnover  Trades  Deliverable Volume  \\\n",
              "Date                                                                    \n",
              "2014-01-01  794.33   587564  4.667199e+13   30949              308810   \n",
              "2014-01-02  801.14  2538179  2.033431e+14   84179             1769558   \n",
              "2014-01-03  790.21  1855802  1.466481e+14   54240             1448449   \n",
              "2014-01-06  791.03  1861785  1.472734e+14   24908             1529849   \n",
              "2014-01-07  794.87  2216143  1.761543e+14   56220             1738763   \n",
              "\n",
              "            %Deliverble  \n",
              "Date                     \n",
              "2014-01-01       0.5256  \n",
              "2014-01-02       0.6972  \n",
              "2014-01-03       0.7805  \n",
              "2014-01-06       0.8217  \n",
              "2014-01-07       0.7846  "
            ]
          },
          "metadata": {
            "tags": []
          },
          "execution_count": 1
        }
      ]
    },
    {
      "metadata": {
        "id": "8WK2UQcOzVKF",
        "colab_type": "text"
      },
      "cell_type": "markdown",
      "source": [
        "I have fetched the 'Open' prices for each date for making futher predictions."
      ]
    },
    {
      "metadata": {
        "id": "ndAZiGeEUkXh",
        "colab_type": "code",
        "colab": {
          "base_uri": "https://localhost:8080/",
          "height": 34
        },
        "outputId": "7879186d-e4fa-4f2a-dc8b-7168768fb107"
      },
      "cell_type": "code",
      "source": [
        "hdfc_open_price = hdfc[['Open']]\n",
        "hdfc_open_price.shape"
      ],
      "execution_count": 2,
      "outputs": [
        {
          "output_type": "execute_result",
          "data": {
            "text/plain": [
              "(1272, 1)"
            ]
          },
          "metadata": {
            "tags": []
          },
          "execution_count": 2
        }
      ]
    },
    {
      "metadata": {
        "id": "QON-ufztXN67",
        "colab_type": "code",
        "colab": {
          "base_uri": "https://localhost:8080/",
          "height": 235
        },
        "outputId": "46f71480-d0d8-48e3-941a-bf958a31e476"
      },
      "cell_type": "code",
      "source": [
        "hdfc_open_price.head()"
      ],
      "execution_count": 3,
      "outputs": [
        {
          "output_type": "execute_result",
          "data": {
            "text/html": [
              "<div>\n",
              "<style scoped>\n",
              "    .dataframe tbody tr th:only-of-type {\n",
              "        vertical-align: middle;\n",
              "    }\n",
              "\n",
              "    .dataframe tbody tr th {\n",
              "        vertical-align: top;\n",
              "    }\n",
              "\n",
              "    .dataframe thead th {\n",
              "        text-align: right;\n",
              "    }\n",
              "</style>\n",
              "<table border=\"1\" class=\"dataframe\">\n",
              "  <thead>\n",
              "    <tr style=\"text-align: right;\">\n",
              "      <th></th>\n",
              "      <th>Open</th>\n",
              "    </tr>\n",
              "    <tr>\n",
              "      <th>Date</th>\n",
              "      <th></th>\n",
              "    </tr>\n",
              "  </thead>\n",
              "  <tbody>\n",
              "    <tr>\n",
              "      <th>2014-01-01</th>\n",
              "      <td>798.25</td>\n",
              "    </tr>\n",
              "    <tr>\n",
              "      <th>2014-01-02</th>\n",
              "      <td>791.60</td>\n",
              "    </tr>\n",
              "    <tr>\n",
              "      <th>2014-01-03</th>\n",
              "      <td>791.00</td>\n",
              "    </tr>\n",
              "    <tr>\n",
              "      <th>2014-01-06</th>\n",
              "      <td>790.00</td>\n",
              "    </tr>\n",
              "    <tr>\n",
              "      <th>2014-01-07</th>\n",
              "      <td>794.00</td>\n",
              "    </tr>\n",
              "  </tbody>\n",
              "</table>\n",
              "</div>"
            ],
            "text/plain": [
              "              Open\n",
              "Date              \n",
              "2014-01-01  798.25\n",
              "2014-01-02  791.60\n",
              "2014-01-03  791.00\n",
              "2014-01-06  790.00\n",
              "2014-01-07  794.00"
            ]
          },
          "metadata": {
            "tags": []
          },
          "execution_count": 3
        }
      ]
    },
    {
      "metadata": {
        "id": "zD6fe64mzpLX",
        "colab_type": "text"
      },
      "cell_type": "markdown",
      "source": [
        "Converting dates and prices to single array of values."
      ]
    },
    {
      "metadata": {
        "id": "etS2bFdSZxxH",
        "colab_type": "code",
        "colab": {}
      },
      "cell_type": "code",
      "source": [
        "date = []\n",
        "for i in np.array(hdfc_open_price.index):\n",
        "  date.append(int(i.day)) \n",
        "  \n",
        "date = np.reshape(date,(len(date),1))"
      ],
      "execution_count": 0,
      "outputs": []
    },
    {
      "metadata": {
        "id": "aDrNTa96kToP",
        "colab_type": "code",
        "colab": {}
      },
      "cell_type": "code",
      "source": [
        "price = []\n",
        "for i in hdfc_open_price.Open:\n",
        "  price.append(i)\n",
        "\n",
        "price = np.reshape(price,(len(price),1))"
      ],
      "execution_count": 0,
      "outputs": []
    },
    {
      "metadata": {
        "id": "tC0Btp3j0Got",
        "colab_type": "text"
      },
      "cell_type": "markdown",
      "source": [
        "I have created three models and each of them are a type of Support Vector Machine.\n",
        "In current case, we are trying to predict the next possible value in series which means we need to use regression and SVMs can be used for regression as well.\n",
        "\n",
        "\n",
        "The Support Vector Regression is a type of SVM which uses the space between data points as the margin of error and predicts the most likely next value in series."
      ]
    },
    {
      "metadata": {
        "id": "ORphyTguXSmS",
        "colab_type": "code",
        "colab": {}
      },
      "cell_type": "code",
      "source": [
        "from sklearn.svm import SVR\n",
        "import matplotlib.pyplot as plt"
      ],
      "execution_count": 0,
      "outputs": []
    },
    {
      "metadata": {
        "id": "56CHFZ_1YAf9",
        "colab_type": "code",
        "colab": {}
      },
      "cell_type": "code",
      "source": [
        "svr_len = SVR(kernel = 'linear',C = 1e3)\n",
        "svr_poly = SVR(kernel = 'poly',C = 1e3, degree = 2)\n",
        "svr_rbf = SVR(kernel = 'rbf',C = 1e3, gamma = 0.1)\n"
      ],
      "execution_count": 0,
      "outputs": []
    },
    {
      "metadata": {
        "id": "m12zZrqGduTJ",
        "colab_type": "code",
        "colab": {
          "base_uri": "https://localhost:8080/",
          "height": 105
        },
        "outputId": "71a7acaa-5957-4375-e8e3-9918a12ef950"
      },
      "cell_type": "code",
      "source": [
        "svr_len.fit(date,price)\n",
        "svr_poly.fit(date,price)\n",
        "svr_rbf.fit(date,price)"
      ],
      "execution_count": 24,
      "outputs": [
        {
          "output_type": "stream",
          "text": [
            "/usr/local/lib/python3.6/dist-packages/sklearn/svm/base.py:196: FutureWarning: The default value of gamma will change from 'auto' to 'scale' in version 0.22 to account better for unscaled features. Set gamma explicitly to 'auto' or 'scale' to avoid this warning.\n",
            "  \"avoid this warning.\", FutureWarning)\n"
          ],
          "name": "stderr"
        },
        {
          "output_type": "execute_result",
          "data": {
            "text/plain": [
              "SVR(C=1000.0, cache_size=200, coef0=0.0, degree=3, epsilon=0.1, gamma=0.1,\n",
              "  kernel='rbf', max_iter=-1, shrinking=True, tol=0.001, verbose=False)"
            ]
          },
          "metadata": {
            "tags": []
          },
          "execution_count": 24
        }
      ]
    },
    {
      "metadata": {
        "id": "St4xY0WkiA4G",
        "colab_type": "code",
        "colab": {
          "base_uri": "https://localhost:8080/",
          "height": 294
        },
        "outputId": "2a59bf0d-d04f-48cc-c1d9-69907ba661fe"
      },
      "cell_type": "code",
      "source": [
        "%matplotlib inline\n",
        "\n",
        "#plt.scatter(date,price, color = \"black\", label='Data')\n",
        "plt.plot(date,svr_len.predict(date),color = 'red', label = \"Linear Model\")\n",
        "plt.plot(date,svr_poly.predict(date),color = 'green', label = \"Polynomial Model\")\n",
        "plt.plot(date,svr_rbf.predict(date),color = 'blue', label = \"RBF Model\")\n",
        "\n",
        "plt.xlabel('Dates')\n",
        "plt.ylabel('Prices')\n",
        "\n",
        "plt.title('Support Vector Regression')\n",
        "plt.legend()\n",
        "plt.show()\n"
      ],
      "execution_count": 32,
      "outputs": [
        {
          "output_type": "display_data",
          "data": {
            "image/png": "[encoded data removed]",
            "text/plain": [
              "<Figure size 432x288 with 1 Axes>"
            ]
          },
          "metadata": {
            "tags": []
          }
        }
      ]
    },
    {
      "metadata": {
        "id": "UTovBlyF3A2V",
        "colab_type": "text"
      },
      "cell_type": "markdown",
      "source": [
        "After traing the model using the Dataset, I have fetched the predicted value from each of the model.\n",
        "\n"
      ]
    },
    {
      "metadata": {
        "id": "9AxhJuc0oth2",
        "colab_type": "code",
        "colab": {
          "base_uri": "https://localhost:8080/",
          "height": 34
        },
        "outputId": "3fe8ae9c-63a3-4458-c490-d16102780ec3"
      },
      "cell_type": "code",
      "source": [
        "svr_rbf.predict([[2]])[0]"
      ],
      "execution_count": 28,
      "outputs": [
        {
          "output_type": "execute_result",
          "data": {
            "text/plain": [
              "1293.649964803604"
            ]
          },
          "metadata": {
            "tags": []
          },
          "execution_count": 28
        }
      ]
    },
    {
      "metadata": {
        "id": "NQOBY-9cpUKt",
        "colab_type": "code",
        "colab": {
          "base_uri": "https://localhost:8080/",
          "height": 34
        },
        "outputId": "fd7ffb73-0bf0-492f-90c3-12431512419c"
      },
      "cell_type": "code",
      "source": [
        "svr_poly.predict([[2]])[0]"
      ],
      "execution_count": 30,
      "outputs": [
        {
          "output_type": "execute_result",
          "data": {
            "text/plain": [
              "1309.2441559470785"
            ]
          },
          "metadata": {
            "tags": []
          },
          "execution_count": 30
        }
      ]
    },
    {
      "metadata": {
        "id": "SvwIzX7Yr8a5",
        "colab_type": "code",
        "colab": {
          "base_uri": "https://localhost:8080/",
          "height": 34
        },
        "outputId": "540f6051-0c71-4916-9b33-78069300104a"
      },
      "cell_type": "code",
      "source": [
        "svr_len.predict([[2]])[0]"
      ],
      "execution_count": 29,
      "outputs": [
        {
          "output_type": "execute_result",
          "data": {
            "text/plain": [
              "1305.4499999982456"
            ]
          },
          "metadata": {
            "tags": []
          },
          "execution_count": 29
        }
      ]
    }
  ]
}